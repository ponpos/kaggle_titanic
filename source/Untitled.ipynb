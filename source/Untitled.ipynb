{
 "cells": [
  {
   "cell_type": "code",
   "execution_count": 138,
   "metadata": {
    "collapsed": true
   },
   "outputs": [],
   "source": [
    "import pandas as pd\n",
    "import numpy as np\n",
    "from sklearn.ensemble import RandomForestClassifier"
   ]
  },
  {
   "cell_type": "code",
   "execution_count": 139,
   "metadata": {},
   "outputs": [],
   "source": [
    "#Sex male:0, female:1\n",
    "#Embarked S:0, C:1, Q:2\n",
    "\n",
    "train = pd.read_csv('train.csv').replace(\"male\",0).replace(\"female\",1).replace(\"S\",0).replace(\"C\",1).replace(\"Q\",2)\n",
    "test = pd.read_csv('test.csv').replace(\"male\",0).replace(\"female\",1).replace(\"S\",0).replace(\"C\",1).replace(\"Q\",2)\n",
    "\n",
    "y_test = pd.read_csv('gender_submission.csv')"
   ]
  },
  {
   "cell_type": "code",
   "execution_count": 140,
   "metadata": {},
   "outputs": [
    {
     "name": "stdout",
     "output_type": "stream",
     "text": [
      "<class 'pandas.core.frame.DataFrame'>\n",
      "RangeIndex: 891 entries, 0 to 890\n",
      "Data columns (total 12 columns):\n",
      "PassengerId    891 non-null int64\n",
      "Survived       891 non-null int64\n",
      "Pclass         891 non-null int64\n",
      "Name           891 non-null object\n",
      "Sex            891 non-null int64\n",
      "Age            714 non-null float64\n",
      "SibSp          891 non-null int64\n",
      "Parch          891 non-null int64\n",
      "Ticket         891 non-null object\n",
      "Fare           891 non-null float64\n",
      "Cabin          204 non-null object\n",
      "Embarked       889 non-null float64\n",
      "dtypes: float64(3), int64(6), object(3)\n",
      "memory usage: 83.6+ KB\n"
     ]
    }
   ],
   "source": [
    "train.info()"
   ]
  },
  {
   "cell_type": "code",
   "execution_count": 141,
   "metadata": {},
   "outputs": [],
   "source": [
    "\n",
    "train[\"Age\"].fillna(train.Age.mean(),inplace=True)\n",
    "train[\"Embarked\"].fillna(train.Embarked.mean(),inplace=True)\n",
    "\n",
    "test[\"Age\"].fillna(train.Age.mean(),inplace=True)\n",
    "test[\"Embarked\"].fillna(train.Embarked.mean(),inplace=True)\n",
    "test[\"Fare\"].fillna(train.Fare.mean(), inplace=True)\n",
    "\n",
    "#列削除\n",
    "train.drop(\"Name\",axis=1,inplace=True)\n",
    "train.drop(\"Cabin\",axis=1,inplace=True)\n",
    "train.drop(\"Ticket\",axis=1,inplace=True)\n",
    "\n",
    "test.drop(\"Name\",axis=1,inplace=True)\n",
    "test.drop(\"Cabin\",axis=1,inplace=True)\n",
    "test.drop(\"Ticket\",axis=1,inplace=True)\n",
    "\n",
    "\n",
    "train_data = train.values\n",
    "x_train = train_data[:, 2:] # Pclass以降の変数\n",
    "y_train  = train_data[:, 1]  # 正解データ\n",
    "\n",
    "test_data = test.values\n",
    "x_test = test_data[:, 1:] # Pclass以降の変数\n",
    "\n",
    "y_test = y_test.values[:,1]"
   ]
  },
  {
   "cell_type": "code",
   "execution_count": 142,
   "metadata": {},
   "outputs": [
    {
     "name": "stdout",
     "output_type": "stream",
     "text": [
      "complete!\n"
     ]
    }
   ],
   "source": [
    "#モデル作成\n",
    "from sklearn import tree\n",
    "from sklearn.grid_search import GridSearchCV\n",
    "\n",
    "tuned_parameters = {'max_depth':  [1, 2, 3, 4, 5, 6, 7, 8, 9, 10], # 木の深さを1-10で\n",
    "                    'max_leaf_nodes':  [2,4,6,8,10] # 最大終端ノード数を2,4,6,8,10で\n",
    "                   }\n",
    " \n",
    "# 上記で用意したパラメーターごとに交差検証を実施。最適な木の深さを確認する。\n",
    "clf = GridSearchCV(tree.DecisionTreeClassifier(random_state=5,splitter='best'), tuned_parameters, scoring=\"accuracy\",cv=5, n_jobs=1)\n",
    "clf = clf.fit(x_train, y_train) # モデル作成!\n",
    "\n",
    "print(\"complete!\")"
   ]
  },
  {
   "cell_type": "code",
   "execution_count": 143,
   "metadata": {},
   "outputs": [
    {
     "name": "stdout",
     "output_type": "stream",
     "text": [
      "Best Parameter: {'max_depth': 3, 'max_leaf_nodes': 8}\n",
      "Best Parameterでの検証用データの精度: 0.96\n",
      "Best Parameterで交差検証した精度の平均（訓練データ）: 0.82\n"
     ]
    }
   ],
   "source": [
    "print(\"Best Parameter: {}\".format(clf.best_params_))\n",
    "print(\"Best Parameterでの検証用データの精度: {:.2f}\".format(clf.score(x_test, y_test)))\n",
    "print(\"Best Parameterで交差検証した精度の平均（訓練データ）: {:.2f}\".format(clf.best_score_))"
   ]
  },
  {
   "cell_type": "code",
   "execution_count": 144,
   "metadata": {},
   "outputs": [
    {
     "name": "stdout",
     "output_type": "stream",
     "text": [
      "[0.21121438 0.62207309 0.07202059 0.04444026 0.         0.05025168\n",
      " 0.        ]\n"
     ]
    }
   ],
   "source": [
    "clf = tree.DecisionTreeClassifier(max_depth=3,max_leaf_nodes=8)\n",
    "clf = clf.fit(x_train,y_train)\n",
    "\n",
    "\n",
    "\n",
    "print(clf.feature_importances_)"
   ]
  },
  {
   "cell_type": "code",
   "execution_count": 145,
   "metadata": {},
   "outputs": [
    {
     "name": "stdout",
     "output_type": "stream",
     "text": [
      "0.958904109589041\n",
      "0.9210526315789473\n",
      "[[260   6]\n",
      " [ 12 140]]\n"
     ]
    }
   ],
   "source": [
    "from sklearn.metrics import confusion_matrix\n",
    "from sklearn.metrics import precision_score, recall_score\n",
    "print(precision_score(y_test,y_pred))\n",
    "print(recall_score(y_test,y_pred))\n",
    "y_pred = clf.predict(x_test)\n",
    "print(confusion_matrix(y_test,y_pred))"
   ]
  },
  {
   "cell_type": "code",
   "execution_count": 146,
   "metadata": {},
   "outputs": [
    {
     "name": "stdout",
     "output_type": "stream",
     "text": [
      "<class 'pandas.core.frame.DataFrame'>\n",
      "RangeIndex: 418 entries, 0 to 417\n",
      "Data columns (total 8 columns):\n",
      "PassengerId    418 non-null int64\n",
      "Pclass         418 non-null int64\n",
      "Sex            418 non-null int64\n",
      "Age            418 non-null float64\n",
      "SibSp          418 non-null int64\n",
      "Parch          418 non-null int64\n",
      "Fare           418 non-null float64\n",
      "Embarked       418 non-null int64\n",
      "dtypes: float64(2), int64(6)\n",
      "memory usage: 26.2 KB\n"
     ]
    }
   ],
   "source": [
    "test.info()"
   ]
  },
  {
   "cell_type": "code",
   "execution_count": 113,
   "metadata": {},
   "outputs": [
    {
     "name": "stdout",
     "output_type": "stream",
     "text": [
      "<class 'pandas.core.frame.DataFrame'>\n",
      "RangeIndex: 418 entries, 0 to 417\n",
      "Data columns (total 2 columns):\n",
      "PassengerId    418 non-null int64\n",
      "Survived       418 non-null int64\n",
      "dtypes: int64(2)\n",
      "memory usage: 6.6 KB\n"
     ]
    }
   ],
   "source": [
    "y_test.info()"
   ]
  },
  {
   "cell_type": "code",
   "execution_count": null,
   "metadata": {
    "collapsed": true
   },
   "outputs": [],
   "source": []
  }
 ],
 "metadata": {
  "kernelspec": {
   "display_name": "Python 3",
   "language": "python",
   "name": "python3"
  },
  "language_info": {
   "codemirror_mode": {
    "name": "ipython",
    "version": 3
   },
   "file_extension": ".py",
   "mimetype": "text/x-python",
   "name": "python",
   "nbconvert_exporter": "python",
   "pygments_lexer": "ipython3",
   "version": "3.6.2"
  }
 },
 "nbformat": 4,
 "nbformat_minor": 2
}
